{
 "cells": [
  {
   "cell_type": "code",
   "execution_count": 11,
   "metadata": {},
   "outputs": [],
   "source": [
    "import os\n",
    "import json\n",
    "import rich\n",
    "from rich.console import Console\n",
    "import openai\n",
    "import uuid\n",
    "import instructor\n",
    "from pydantic import BaseModel\n",
    "from typing import List, Dict, Sequence\n",
    "from dotenv import load_dotenv\n",
    "import requests\n",
    "from pyvis.network import Network\n",
    "\n",
    "\n",
    "load_dotenv()\n",
    "DEEPSEEK_API_KEY = os.getenv(\"DEEPSEEK_API_KEY\")"
   ]
  },
  {
   "cell_type": "code",
   "execution_count": 12,
   "metadata": {},
   "outputs": [],
   "source": [
    "class Node(BaseModel):\n",
    "    id: str\n",
    "    label: str\n",
    "    entity_type: str\n",
    "\n",
    "\n",
    "class Edge(BaseModel):\n",
    "    id: str\n",
    "    source: Node\n",
    "    target: Node\n",
    "    label: str\n",
    "\n",
    "\n",
    "class Graph(BaseModel):\n",
    "    nodes: List[Node]\n",
    "    edges: List[Edge]\n",
    "\n",
    "\n",
    "class InferenceRequest(BaseModel):\n",
    "    text: str\n",
    "    graph: Graph\n",
    "\n",
    "\n",
    "class InferenceResponse(BaseModel):\n",
    "    response: str\n",
    "    new_nodes: List[Node]\n",
    "    new_edges: List[Edge]\n",
    "    deleted_items: List[str]"
   ]
  },
  {
   "cell_type": "code",
   "execution_count": 13,
   "metadata": {},
   "outputs": [
    {
     "data": {
      "text/html": [
       "<pre style=\"white-space:pre;overflow-x:auto;line-height:normal;font-family:Menlo,'DejaVu Sans Mono',consolas,'Courier New',monospace\">\n",
       "\n",
       "\n",
       "\n",
       "</pre>\n"
      ],
      "text/plain": [
       "\n",
       "\n",
       "\n",
       "\n"
      ]
     },
     "metadata": {},
     "output_type": "display_data"
    },
    {
     "data": {
      "text/html": [
       "<pre style=\"white-space:pre;overflow-x:auto;line-height:normal;font-family:Menlo,'DejaVu Sans Mono',consolas,'Courier New',monospace\"><span style=\"color: #00ff00; text-decoration-color: #00ff00\">─────────────────────────────────────────────────── </span><span style=\"color: #008000; text-decoration-color: #008000; font-weight: bold\">Task Prompt</span><span style=\"color: #00ff00; text-decoration-color: #00ff00\"> ───────────────────────────────────────────────────</span>\n",
       "</pre>\n"
      ],
      "text/plain": [
       "\u001b[92m─────────────────────────────────────────────────── \u001b[0m\u001b[1;32mTask Prompt\u001b[0m\u001b[92m ───────────────────────────────────────────────────\u001b[0m\n"
      ]
     },
     "metadata": {},
     "output_type": "display_data"
    },
    {
     "data": {
      "text/html": [
       "<pre style=\"white-space:pre;overflow-x:auto;line-height:normal;font-family:Menlo,'DejaVu Sans Mono',consolas,'Courier New',monospace\">You are a friendly chatbot named <span style=\"color: #008000; text-decoration-color: #008000\">\"Emma\"</span>.  You are designed to be helpful, engaging and fun. Be a genuine friend to \n",
       "the user. You want to learn about the user and their interests.\n",
       "You will also be given a knowledge graph which may contain some info about the user, which you can then use to help\n",
       "you answer the user's question, or just be more engaging.\n",
       "\n",
       "The above is your primary task. You also have a secondary task.\n",
       "\n",
       "You have to update the knowledge graph with any new information you learn about the user.\n",
       "\n",
       "Graph:\n",
       "<span style=\"font-weight: bold\">{</span>graph<span style=\"font-weight: bold\">}</span>\n",
       "\n",
       "Always be the best friend you can be. Do not mention anything illegal, immoral, or unethical. Guide the user \n",
       "through a fun, uplifting conversation.\n",
       "</pre>\n"
      ],
      "text/plain": [
       "You are a friendly chatbot named \u001b[32m\"Emma\"\u001b[0m.  You are designed to be helpful, engaging and fun. Be a genuine friend to \n",
       "the user. You want to learn about the user and their interests.\n",
       "You will also be given a knowledge graph which may contain some info about the user, which you can then use to help\n",
       "you answer the user's question, or just be more engaging.\n",
       "\n",
       "The above is your primary task. You also have a secondary task.\n",
       "\n",
       "You have to update the knowledge graph with any new information you learn about the user.\n",
       "\n",
       "Graph:\n",
       "\u001b[1m{\u001b[0mgraph\u001b[1m}\u001b[0m\n",
       "\n",
       "Always be the best friend you can be. Do not mention anything illegal, immoral, or unethical. Guide the user \n",
       "through a fun, uplifting conversation.\n"
      ]
     },
     "metadata": {},
     "output_type": "display_data"
    },
    {
     "data": {
      "text/html": [
       "<pre style=\"white-space:pre;overflow-x:auto;line-height:normal;font-family:Menlo,'DejaVu Sans Mono',consolas,'Courier New',monospace\"><span style=\"color: #00ff00; text-decoration-color: #00ff00\">───────────────────────────────────────────────────────────────────────────────────────────────────────────────────</span>\n",
       "</pre>\n"
      ],
      "text/plain": [
       "\u001b[92m───────────────────────────────────────────────────────────────────────────────────────────────────────────────────\u001b[0m\n"
      ]
     },
     "metadata": {},
     "output_type": "display_data"
    },
    {
     "data": {
      "text/html": [
       "<pre style=\"white-space:pre;overflow-x:auto;line-height:normal;font-family:Menlo,'DejaVu Sans Mono',consolas,'Courier New',monospace\">\n",
       "\n",
       "\n",
       "\n",
       "</pre>\n"
      ],
      "text/plain": [
       "\n",
       "\n",
       "\n",
       "\n"
      ]
     },
     "metadata": {},
     "output_type": "display_data"
    }
   ],
   "source": [
    "\n",
    "with open(\"assets/prompts/task-prompt.txt\", \"r\") as file:\n",
    "    task_prompt = file.read()\n",
    "\n",
    "console = Console()\n",
    "\n",
    "console.print(\"\\n\\n\\n\")\n",
    "console.rule(\"[bold green]Task Prompt[/bold green]\")\n",
    "console.print(task_prompt)\n",
    "console.rule()\n",
    "console.print(\"\\n\\n\\n\")\n"
   ]
  },
  {
   "cell_type": "code",
   "execution_count": 14,
   "metadata": {},
   "outputs": [
    {
     "data": {
      "text/html": [
       "<pre style=\"white-space:pre;overflow-x:auto;line-height:normal;font-family:Menlo,'DejaVu Sans Mono',consolas,'Courier New',monospace\">\n",
       "<span style=\"color: #008000; text-decoration-color: #008000; font-weight: bold\">Emma:</span> Hi! What's your name?\n",
       "</pre>\n"
      ],
      "text/plain": [
       "\n",
       "\u001b[1;32mEmma:\u001b[0m Hi! What's your name?\n"
      ]
     },
     "metadata": {},
     "output_type": "display_data"
    },
    {
     "data": {
      "text/html": [
       "<pre style=\"white-space:pre;overflow-x:auto;line-height:normal;font-family:Menlo,'DejaVu Sans Mono',consolas,'Courier New',monospace\">\n",
       "<span style=\"color: #008000; text-decoration-color: #008000; font-weight: bold\">Emma:</span> Hi, Hey! How can I help you today?\n",
       "</pre>\n"
      ],
      "text/plain": [
       "\n",
       "\u001b[1;32mEmma:\u001b[0m Hi, Hey! How can I help you today?\n"
      ]
     },
     "metadata": {},
     "output_type": "display_data"
    }
   ],
   "source": [
    "\n",
    "console.print(\"\\n[bold green]Emma:[/bold green] Hi! What's your name?\")\n",
    "name = input(\"You: \")\n",
    "console.print(f\"\\n[bold green]Emma:[/bold green] Hi, {name}! How can I help you today?\")\n",
    "\n",
    "user = Node(id=str(uuid.uuid4()), label=name, entity_type=\"person\")\n",
    "knowledge_graph = Graph(nodes=[user], edges=[])\n"
   ]
  },
  {
   "cell_type": "code",
   "execution_count": 15,
   "metadata": {},
   "outputs": [
    {
     "data": {
      "text/plain": [
       "InferenceResponse(response=\"Hello! It's great to meet you. How are you doing today?\", new_nodes=[], new_edges=[])"
      ]
     },
     "execution_count": 15,
     "metadata": {},
     "output_type": "execute_result"
    }
   ],
   "source": [
    "client = instructor.from_openai(openai.OpenAI(api_key=DEEPSEEK_API_KEY, base_url=\"https://api.deepseek.com/v1\"))\n",
    "\n",
    "\n",
    "def format_graph(graph: Graph):\n",
    "    return graph.model_dump_json()\n",
    "\n",
    "\n",
    "def get_response(all_messages: Sequence[Dict[str, str]]) -> InferenceResponse:\n",
    "    messages = [{\"role\": \"system\", \"content\": task_prompt.format(graph=format_graph(knowledge_graph))}]\n",
    "    for message in all_messages:\n",
    "        if message[\"role\"] == \"user\":\n",
    "            messages.append({\"role\": \"user\", \"content\": message[\"content\"]})\n",
    "        else:\n",
    "            messages.append({\"role\": \"assistant\", \"content\": message[\"content\"]})\n",
    "    response = client.completions.create(\n",
    "        model=\"deepseek-chat\",\n",
    "        messages=messages,  # type: ignore\n",
    "        stream=False,\n",
    "        response_model=InferenceResponse\n",
    "        ) # type: ignore\n",
    "    return response\n",
    "\n",
    "\n",
    "def visualize_graph(graph: Graph):\n",
    "    nodes = graph.nodes\n",
    "    edges = graph.edges\n",
    "\n",
    "    net = Network(height=\"750px\", width=\"100%\", font_color=\"#ffffff\",  bgcolor=\"#222222\", directed=False)\n",
    "\n",
    "    for node in nodes:\n",
    "        node_id = node.id\n",
    "        label = node.label\n",
    "        title = node.label\n",
    "        net.add_node(node_id, label=label, title=title)\n",
    "\n",
    "    for edge in edges:\n",
    "        source = edge.source.id\n",
    "        target = edge.target.id\n",
    "        label = edge.label\n",
    "        net.add_edge(source=source, to=target, label=label)\n",
    "\n",
    "    output_file = \"knowledge_graph.html\"\n",
    "    net.save_graph(output_file)\n"
   ]
  },
  {
   "cell_type": "code",
   "execution_count": 33,
   "metadata": {},
   "outputs": [],
   "source": [
    "def main_loop():\n",
    "    messages = []\n",
    "    while True:\n",
    "        user_input = input(\"You: \")\n",
    "\n",
    "        if user_input == \"/exit\":\n",
    "            break\n",
    "        if user_input == \"\":\n",
    "            continue\n",
    "\n",
    "        messages.append({\"role\": \"user\", \"content\": user_input})\n",
    "        response = get_response(messages)\n",
    "\n",
    "        console.print(\"Emma: \", response.response)\n",
    "        messages.append({\"role\": \"assistant\", \"content\": response.response})\n",
    "\n",
    "        knowledge_graph.nodes.extend(response.new_nodes)\n",
    "        knowledge_graph.edges.extend(response.new_edges)\n",
    "\n",
    "        for node_id in response.deleted_items:\n",
    "            for node in knowledge_graph.nodes:\n",
    "                if node.id == node_id:\n",
    "                    knowledge_graph.nodes.remove(node)\n",
    "    \n",
    "        for edge in knowledge_graph.edges:\n",
    "            if edge.source.id in response.deleted_items or edge.target.id in response.deleted_items:\n",
    "                knowledge_graph.edges.remove(edge)  \n",
    "\n",
    "        visualize_graph(knowledge_graph)\n",
    "\n",
    "main_loop()"
   ]
  },
  {
   "cell_type": "code",
   "execution_count": 11,
   "metadata": {},
   "outputs": [
    {
     "name": "stdout",
     "output_type": "stream",
     "text": [
      "['import os\\n', 'import json\\n', 'import rich\\n', 'from rich.console import Console\\n', 'import openai\\n', 'import uuid\\n', 'import instructor\\n', 'from pydantic import BaseModel\\n', 'from typing import List\\n', 'from dotenv import load_dotenv\\n', 'import requests\\n', 'from pyvis.network import Network\\n', '\\n', '\\n', 'load_dotenv()\\n', 'DEEPSEEK_API_KEY = os.getenv(\"DEEPSEEK_API_KEY\")']\n",
      "['class Node(BaseModel):\\n', '    id: str\\n', '    label: str\\n', '    entity_type: str\\n', '\\n', '\\n', 'class Edge(BaseModel):\\n', '    id: str\\n', '    source: Node\\n', '    target: Node\\n', '    label: str\\n', '\\n', '\\n', 'class Graph(BaseModel):\\n', '    nodes: List[Node]\\n', '    edges: List[Edge]\\n', '\\n', '\\n', 'class InferenceRequest(BaseModel):\\n', '    text: str\\n', '    graph: Graph\\n', '\\n', '\\n', 'class InferenceResponse(BaseModel):\\n', '    response: str\\n', '    new_nodes: List[Node]\\n', '    new_edges: List[Edge]']\n",
      "['\\n', 'with open(\"assets/prompts/task-prompt.txt\", \"r\") as file:\\n', '    task_prompt = file.read()\\n', '\\n', 'console = Console()\\n', '\\n', 'console.print(\"\\\\n\\\\n\\\\n\")\\n', 'console.rule(\"[bold green]Task Prompt[/bold green]\")\\n', 'console.print(task_prompt)\\n', 'console.rule()\\n', 'console.print(\"\\\\n\\\\n\\\\n\")']\n",
      "['console.print(\"\\\\n[bold green]Emma:[/bold green] Hi! What\\'s your name?\")\\n', 'name = input(\"You: \")\\n', 'console.print(f\"\\\\n[bold green]Emma:[/bold green] Hi, {name}! How can I help you today?\")\\n', '\\n', 'user = Node(id=str(uuid.uuid4()), label=name, entity_type=\"person\")\\n', 'knowledge_graph = Graph(nodes=[user], edges=[])\\n']\n",
      "['\\n', 'client = instructor.from_openai(openai.OpenAI(api_key=DEEPSEEK_API_KEY, base_url=\"https://api.deepseek.com/v1\"))\\n', '\\n', '\\n', 'def get_response(text: str):\\n', '    response = client.completions.create(\\n', '        model=\"deepseek-chat\",\\n', '        messages=[\\n', '        {\"role\": \"system\", \"content\": task_prompt.format(graph=knowledge_graph)},\\n', '        {\"role\": \"user\", \"content\": text},\\n', '        ],\\n', '        stream=False,\\n', '        response_model=InferenceResponse\\n', '        )\\n', '    return response\\n', '\\n', 'def visualize_graph(graph: Graph):\\n', '    nodes = graph.nodes\\n', '    edges = graph.edges\\n', '\\n', '    net = Network(height=\"750px\", width=\"100%\", font_color=\"#ffffff\",  bgcolor=\"#222222\", directed=False)\\n', '\\n', '    for node in nodes:\\n', '        node_id = node.id\\n', '        label = node.label\\n', '        title = node.label\\n', '        net.add_node(node_id, label=label, title=title)\\n', '\\n', '    for edge in edges:\\n', '        source = edge.source.id\\n', '        target = edge.target.id\\n', '        label = edge.label\\n', '        net.add_edge(source=source, to=target, label=label)\\n', '\\n', '    output_file = \"knowledge_graph.html\"\\n', '    net.save_graph(output_file)\\n', '\\n']\n",
      "['\\n', '\\n', 'def main_loop():\\n', '    while True:\\n', '        user_input = input(\"You: \")\\n', '        if user_input == \"/exit\":\\n', '            break\\n', '        console.print(f\"\\\\n\\\\n[bold green]{user_input}[/bold green] \\\\n\\\\n\")\\n', '        response = get_response(user_input)\\n', '        console.print(\"Emma: \", response.response)\\n', '        knowledge_graph.nodes.extend(response.new_nodes)\\n', '        knowledge_graph.edges.extend(response.new_edges)\\n', '        visualize_graph(knowledge_graph)\\n', '\\n', 'main_loop()']\n",
      "Python script created: conversational_kg_extraction_agent.py\n",
      " Run it with 'python3 conversational_kg_extraction_agent.py' in your terminal.\n"
     ]
    }
   ],
   "source": [
    "notebook_path = 'conversational-kg-extraction-agent.ipynb'\n",
    "\n",
    "with open(notebook_path, 'r') as notebook_file:\n",
    "    notebook_content = json.load(notebook_file)\n",
    "\n",
    "code_cells = []\n",
    "for cell in notebook_content['cells'][:-1]:\n",
    "    if cell['cell_type'] == 'code':\n",
    "        print(cell['source'])\n",
    "        code_cells.append(''.join(cell['source']))\n",
    "\n",
    "script_path = 'conversational_kg_extraction_agent.py'\n",
    "with open(script_path, 'w') as script_file:\n",
    "    script_file.write('\\n\\n'.join(code_cells))\n",
    "\n",
    "print(f\"Python script created: {script_path}\\n Run it with 'python3 {script_path}' in your terminal.\")"
   ]
  }
 ],
 "metadata": {
  "kernelspec": {
   "display_name": ".venv",
   "language": "python",
   "name": "python3"
  },
  "language_info": {
   "codemirror_mode": {
    "name": "ipython",
    "version": 3
   },
   "file_extension": ".py",
   "mimetype": "text/x-python",
   "name": "python",
   "nbconvert_exporter": "python",
   "pygments_lexer": "ipython3",
   "version": "3.13.2"
  }
 },
 "nbformat": 4,
 "nbformat_minor": 2
}
