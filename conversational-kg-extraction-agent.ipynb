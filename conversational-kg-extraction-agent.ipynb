{
 "cells": [
  {
   "cell_type": "code",
   "execution_count": 1,
   "metadata": {},
   "outputs": [
    {
     "name": "stdout",
     "output_type": "stream",
     "text": [
      "Note: you may need to restart the kernel to use updated packages.\n"
     ]
    },
    {
     "name": "stderr",
     "output_type": "stream",
     "text": [
      "/Users/rohanrichard/Documents/code/knowledge-graph-agent/.venv/lib/python3.9/site-packages/urllib3/__init__.py:35: NotOpenSSLWarning: urllib3 v2 only supports OpenSSL 1.1.1+, currently the 'ssl' module is compiled with 'LibreSSL 2.8.3'. See: https://github.com/urllib3/urllib3/issues/3020\n",
      "  warnings.warn(\n"
     ]
    }
   ],
   "source": [
    "%pip install openai pydantic python-dotenv openai instructor graphviz eval_type_backport --quiet\n",
    "\n",
    "import os\n",
    "import openai\n",
    "import instructor\n",
    "from pydantic import BaseModel\n",
    "from typing import List\n",
    "from dotenv import load_dotenv\n",
    "import graphviz\n",
    "from IPython.display import Image, display\n",
    "\n",
    "load_dotenv()\n",
    "DEEPSEEK_API_KEY = os.getenv(\"DEEPSEEK_API_KEY\")"
   ]
  },
  {
   "cell_type": "code",
   "execution_count": null,
   "metadata": {},
   "outputs": [],
   "source": [
    "class Node(BaseModel):\n",
    "    label: str\n",
    "    entity_type: str\n",
    "\n",
    "\n",
    "class Edge(BaseModel):\n",
    "    source: Node\n",
    "    target: Node\n",
    "    label: str\n",
    "\n",
    "\n",
    "class Graph(BaseModel):\n",
    "    nodes: List[Node]\n",
    "    edges: List[Edge]\n",
    "\n",
    "\n",
    "class InferenceRequest(BaseModel):\n",
    "    text: str\n",
    "    graph: Graph\n",
    "\n",
    "\n",
    "class InferenceResponse(BaseModel):\n",
    "    response: str\n",
    "    new_nodes: List[Node]\n",
    "    new_edges: List[Edge]"
   ]
  }
 ],
 "metadata": {
  "kernelspec": {
   "display_name": ".venv",
   "language": "python",
   "name": "python3"
  },
  "language_info": {
   "codemirror_mode": {
    "name": "ipython",
    "version": 3
   },
   "file_extension": ".py",
   "mimetype": "text/x-python",
   "name": "python",
   "nbconvert_exporter": "python",
   "pygments_lexer": "ipython3",
   "version": "3.9.6"
  }
 },
 "nbformat": 4,
 "nbformat_minor": 2
}
